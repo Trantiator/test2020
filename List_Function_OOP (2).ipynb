{
 "cells": [
  {
   "cell_type": "markdown",
   "metadata": {},
   "source": [
    "# list"
   ]
  },
  {
   "cell_type": "markdown",
   "metadata": {},
   "source": [
    "Lists are Python’s most flexible ordered collection object type.\n",
    "\n",
    "index, reassign, .append(), slice, .insert(), .remove(), .pop(), .index()"
   ]
  },
  {
   "cell_type": "markdown",
   "metadata": {},
   "source": [
    "Creating a Lists in python\n",
    "\n",
    "    A list can be created by putting the value inside the square bracket, and values are separated by commas."
   ]
  },
  {
   "cell_type": "code",
   "execution_count": null,
   "metadata": {},
   "outputs": [],
   "source": [
    "#list with integer values\n",
    "jpytei_1=[1,2,3] \n",
    "print(jpytei_1)"
   ]
  },
  {
   "cell_type": "code",
   "execution_count": null,
   "metadata": {},
   "outputs": [],
   "source": [
    "#list with strings\n",
    "jpytei_2=['a','b','c'] #list\n",
    "print(jpytei_2)"
   ]
  },
  {
   "cell_type": "code",
   "execution_count": null,
   "metadata": {},
   "outputs": [],
   "source": [
    "#list with mix data types\n",
    "jpytei_3=[1,'a',2.5,'@'] \n",
    "print(jpytei_3)"
   ]
  },
  {
   "cell_type": "code",
   "execution_count": null,
   "metadata": {},
   "outputs": [],
   "source": [
    "#One-dimensional Lists in Python:\n",
    "init_list = [5]*4\n",
    "print(init_list)"
   ]
  },
  {
   "cell_type": "code",
   "execution_count": null,
   "metadata": {},
   "outputs": [],
   "source": [
    "#Two-dimensional Lists In Python:\n",
    "two_dim_list = [ [5]*4 ] *4\n",
    "print(two_dim_list)"
   ]
  },
  {
   "cell_type": "markdown",
   "metadata": {},
   "source": [
    "Python List Comprehension\n",
    "    \n",
    "    Python List comprehension helps in constructing lists in a completely natural and easy way."
   ]
  },
  {
   "cell_type": "code",
   "execution_count": null,
   "metadata": {},
   "outputs": [],
   "source": [
    "List1 = [ i for i in range(5)]# create a variable i whose value should be in rang 5\n",
    "print(List1)"
   ]
  },
  {
   "cell_type": "markdown",
   "metadata": {},
   "source": [
    "Common List Operations in Python"
   ]
  },
  {
   "cell_type": "code",
   "execution_count": null,
   "metadata": {},
   "outputs": [],
   "source": [
    "us_presidents=['George Washington','John Adams','Thomas Jefferson','James Madison','James Monroe','John Quincy Adams','Andrew Jackson','Martin Van Buren','William Henry Harrison','missing','John Tyler','James K. Polk','Zachary Taylor','Millard Fillmore','Franklin Pierce','James Buchanan','Abraham Lincoln','Andrew Johnson','Ulysses S. Grant','Rutherford Birchard Hayes','James A. Garfield','Chester A. Arthur','Grover Cleveland','Benjamin Harrison','William McKinley','Theodore Roosevelt','William H. Taft','Woodrow Wilson','Warren G. Harding','Calvin Coolidge','Herbert Hoover','Franklin D. Roosevelt','Harry S. Truman','Dwight D. Eisenhower','John F. Kennedy',\t'Lyndon B. Johnson','Richard M. Nixon','Gerald R. Ford','Jimmy Carter','Ronald Reagan','George Bush','Bill Clinton','George W. Bush','Barack Obama','Donald J. Trump']\n",
    "print(us_presidents)"
   ]
  },
  {
   "cell_type": "code",
   "execution_count": null,
   "metadata": {},
   "outputs": [],
   "source": [
    "print(us_presidents[44])"
   ]
  },
  {
   "cell_type": "code",
   "execution_count": null,
   "metadata": {},
   "outputs": [],
   "source": [
    "us_presidents[44]='Hillary Clinton'#reassign\n",
    "print('I wish our 45 president were '+us_presidents[44])"
   ]
  },
  {
   "cell_type": "code",
   "execution_count": null,
   "metadata": {},
   "outputs": [],
   "source": [
    "us_presidents.append('Joe Biden')#append\n",
    "print('I wish our 46 president will be '+us_presidents[45])"
   ]
  },
  {
   "cell_type": "code",
   "execution_count": null,
   "metadata": {},
   "outputs": [],
   "source": [
    "print(us_presidents)"
   ]
  },
  {
   "cell_type": "code",
   "execution_count": null,
   "metadata": {},
   "outputs": [],
   "source": [
    "first_three_presidents=us_presidents[0:3]#slice\n",
    "print(first_three_presidents)"
   ]
  },
  {
   "cell_type": "code",
   "execution_count": null,
   "metadata": {},
   "outputs": [],
   "source": [
    "us_presidents[44]='Donald J. Trump'"
   ]
  },
  {
   "cell_type": "code",
   "execution_count": null,
   "metadata": {},
   "outputs": [],
   "source": [
    "recent_five_presidents=us_presidents[10:15]#slice\n",
    "print(recent_five_presidents)"
   ]
  },
  {
   "cell_type": "code",
   "execution_count": null,
   "metadata": {},
   "outputs": [],
   "source": [
    "find_my_president=us_presidents.index('Jimmy Carter')\n",
    "print(find_my_president)"
   ]
  },
  {
   "cell_type": "code",
   "execution_count": null,
   "metadata": {},
   "outputs": [],
   "source": [
    "me_president=us_presidents.insert(1,'MaxGupta')\n",
    "print(str(me_president[1]) + ' was the first president.')"
   ]
  },
  {
   "cell_type": "code",
   "execution_count": null,
   "metadata": {},
   "outputs": [],
   "source": [
    "print(us_presidents)"
   ]
  },
  {
   "cell_type": "code",
   "execution_count": null,
   "metadata": {},
   "outputs": [],
   "source": [
    "me_not_president=us_presidents.pop(0)\n",
    "print(us_presidents[0]+ ' was the first president.')"
   ]
  },
  {
   "cell_type": "code",
   "execution_count": null,
   "metadata": {},
   "outputs": [],
   "source": [
    "#Remove duplicates from lists in python\n",
    "mylist = [\"a\", \"b\", \"c\", \"d\", \"c\"]\n",
    "mylist = list(dict.fromkeys(mylist))\n",
    "print(mylist)"
   ]
  },
  {
   "cell_type": "code",
   "execution_count": null,
   "metadata": {},
   "outputs": [],
   "source": [
    "#Reverse a list in python\n",
    "lst = [10, 11, 12, 13, 14, 15]\n",
    "lst.reverse()\n",
    "print(lst)"
   ]
  },
  {
   "cell_type": "code",
   "execution_count": null,
   "metadata": {},
   "outputs": [],
   "source": [
    "#Sorting list in ascending order:\n",
    "list1 = [1,3,2,4,5,9,6]\n",
    "list1.sort()\n",
    "print(list1)"
   ]
  },
  {
   "cell_type": "code",
   "execution_count": null,
   "metadata": {},
   "outputs": [],
   "source": [
    "#Sorting list in descending order:\n",
    "list1 = [1,3,2,4,5,9,6]\n",
    "list1.sort(reverse=True)\n",
    "print(list1)"
   ]
  },
  {
   "cell_type": "markdown",
   "metadata": {},
   "source": [
    "Other Python List Functions \n",
    "\n",
    "        min(list_name)\tReturns the minimum value from a list in Python\n",
    "\n",
    "        max(list_name)\tReturns the largest value from a list in Python\n",
    "\n",
    "        len(list_name)\tReturns the number of elements in a list in Python\n",
    "\n",
    "        cmp(list1,list2)\tCompares two lists in Python"
   ]
  },
  {
   "cell_type": "markdown",
   "metadata": {},
   "source": [
    "# Tuples"
   ]
  },
  {
   "cell_type": "markdown",
   "metadata": {},
   "source": [
    "Tuple data type in Python is a collection of various immutable Python objects separated by commas.\n",
    "\n",
    "Tuples are much similar to Python Lists, but they are syntactically different, i.e., in lists we use square brackets while in tuples we use parentheses. "
   ]
  },
  {
   "cell_type": "code",
   "execution_count": null,
   "metadata": {},
   "outputs": [],
   "source": [
    "# Tuple\n",
    "numbers_2=(4,5,6)\n",
    "print(numbers_2)"
   ]
  },
  {
   "cell_type": "markdown",
   "metadata": {},
   "source": [
    "# Dictionaries"
   ]
  },
  {
   "cell_type": "markdown",
   "metadata": {},
   "source": [
    "Dictionary in Python\n",
    "Python dictionary is yet another unordered collection of elements. The difference between Python dictionary and other unordered Python data types such as sets lies in the fact that unlike sets, a dictionary contains keys and values rather than just elements."
   ]
  },
  {
   "cell_type": "code",
   "execution_count": null,
   "metadata": {},
   "outputs": [],
   "source": [
    "#Dictionaries\n",
    "dictionary_1={4,5,6}\n",
    "print(dictionary_1)"
   ]
  },
  {
   "cell_type": "markdown",
   "metadata": {},
   "source": [
    "# Control flow"
   ]
  },
  {
   "cell_type": "markdown",
   "metadata": {},
   "source": [
    "Like other programming languages, there are some control flow statements in Python as well. Control flow refers to the order in which the program should be executed. "
   ]
  },
  {
   "cell_type": "code",
   "execution_count": null,
   "metadata": {},
   "outputs": [],
   "source": [
    "#If statements\n",
    "if 7 != 6:\n",
    "    print(\"5 does not equal 6\")"
   ]
  },
  {
   "cell_type": "code",
   "execution_count": null,
   "metadata": {},
   "outputs": [],
   "source": [
    "if 1 == 1:## Condition 1\n",
    "    print(\"1 equals 2.\")## Action 1\n",
    "else:\n",
    "    print(\"1 does not equal 2!\") ## Action 2"
   ]
  },
  {
   "cell_type": "code",
   "execution_count": null,
   "metadata": {},
   "outputs": [],
   "source": [
    "#If Elif Else in Python\n",
    "#This conditional statement in Python allows us to check multiple statements rather than just one or two like we saw in if and if else statements.\n",
    "a = 25\n",
    "\n",
    "if (a == 20):\n",
    "    print (\"value of variable a is 20\")\n",
    "\n",
    "elif (a == 30):\n",
    "    print (\"value of variable a is 30\")\n",
    "\n",
    "elif (a == 40):\n",
    "    print (\"value of variable a is 40\")\n",
    "\n",
    "else:\n",
    "    print (\"value of variable a is greater than 40\")"
   ]
  },
  {
   "cell_type": "code",
   "execution_count": null,
   "metadata": {},
   "outputs": [],
   "source": [
    "import sys\n",
    "#step1:\n",
    "# asks the user to enter their input as an integer with 1 corresponding to water, \n",
    "#2 corresponding to cola, \n",
    "# and 3 corresponding to gatorade. \n",
    "order = int(input(\"Enter your order number as an integer. (1, 2, or 3)\"))\n",
    "if order == 1:\n",
    " # water is $1.00, thus a variable, disPrice is created and assigned 1.00 if the user enters 1 for water\n",
    " disPrice = 1.00\n",
    "elif order == 2:\n",
    " # cola is $1.50\n",
    " disPrice = 1.50\n",
    "elif order == 3:\n",
    " # gatorade is $2.00\n",
    " disPrice = 2.00\n",
    "else:\n",
    " # ends the program and prints the message \"Please try again.\" if order does not equal 1, 2, or 3\n",
    " sys.exit(\"Please try again.\")\n",
    "\n",
    "# Step2:\n",
    "# the amount of each coin the user puts in: \n",
    "quarters = int(input(\"Enter the number of quarters as an integer.\"))\n",
    "dimes = int(input(\"Enter the number of dimes as an integer.\"))\n",
    "nickels = int(input(\"Enter the number of nickels as an integer.\"))\n",
    "pennies = int(input(\"Enter the number of pennies as an integer.\"))\n",
    "\n",
    "#step3:\n",
    "# variable that holds the total value of all the coins the user has put into the vending machine.\n",
    "total = quarters * .25 + dimes * .10 + nickels * .05 + pennies * .01\n",
    "\n",
    "#step4:\n",
    "if total >= disPrice:\n",
    "    print(\"Your change is $\" + \"%.2f\" % (total - disPrice) + \". Have a nice day.\")\n",
    "else:\n",
    " # prints \"Please try again.\" if total < disPrice\n",
    " print(\"Please try again.\")"
   ]
  },
  {
   "cell_type": "markdown",
   "metadata": {},
   "source": [
    "# Loops"
   ]
  },
  {
   "cell_type": "markdown",
   "metadata": {},
   "source": [
    "While Loop in Python\n",
    "\n",
    "While loop statements in Python are used to repeatedly execute a certain statement as long as the condition provided in the while loop statement stays true."
   ]
  },
  {
   "cell_type": "code",
   "execution_count": null,
   "metadata": {},
   "outputs": [],
   "source": [
    "#While loop\n",
    "counter = 0 ## define a variable to hold the counter\n",
    "while counter < 10: ##condition \n",
    "    print(\"something\") ##Action items\n",
    "    counter += 2 #THIS IS VERY IMPORTANT TO AVOID INFINITE LOOP"
   ]
  },
  {
   "cell_type": "code",
   "execution_count": null,
   "metadata": {},
   "outputs": [],
   "source": [
    "#While loop with break\n",
    "counter = 1\n",
    "while True:\n",
    "    print(\"something\")\n",
    "    counter += 1\n",
    "    if counter > 2:\n",
    "        break"
   ]
  },
  {
   "cell_type": "code",
   "execution_count": null,
   "metadata": {},
   "outputs": [],
   "source": [
    "#Else with the While Loop \n",
    "a = 1\n",
    "\n",
    "while a<5:\n",
    "    print(\"condition is true\")\n",
    "    a=a+1\n",
    "\n",
    "else:\n",
    "    print(\"condition is false now\")"
   ]
  },
  {
   "cell_type": "markdown",
   "metadata": {},
   "source": [
    "For Loops in python"
   ]
  },
  {
   "cell_type": "code",
   "execution_count": null,
   "metadata": {},
   "outputs": [],
   "source": [
    "#### for loop \n",
    "list1 =[1,2,3,4,5]\n",
    "for values in list1: \n",
    "    print(values)"
   ]
  },
  {
   "cell_type": "code",
   "execution_count": null,
   "metadata": {},
   "outputs": [],
   "source": [
    "numbers=[1,2,3,4,5] \n",
    "empty=[]\n",
    "for items in numbers:## for loop \n",
    "    empty.append(items*2) ## Action line\n",
    "    print(empty)"
   ]
  },
  {
   "cell_type": "code",
   "execution_count": null,
   "metadata": {},
   "outputs": [],
   "source": [
    "print(empty)"
   ]
  },
  {
   "cell_type": "code",
   "execution_count": null,
   "metadata": {},
   "outputs": [],
   "source": [
    "#The range() Function In Python For Loop\n",
    "for i in range(2,10):\n",
    "    print(i)"
   ]
  },
  {
   "cell_type": "code",
   "execution_count": null,
   "metadata": {},
   "outputs": [],
   "source": [
    "for i in range(2,10,2):\n",
    "    print(i)"
   ]
  },
  {
   "cell_type": "code",
   "execution_count": null,
   "metadata": {},
   "outputs": [],
   "source": [
    "#Else in Python For Loop\n",
    "for i in range(1,6):\n",
    "    print(i)\n",
    "\n",
    "else:\n",
    "    print(\"All iterations completed\")"
   ]
  },
  {
   "cell_type": "code",
   "execution_count": null,
   "metadata": {},
   "outputs": [],
   "source": [
    "#Break Statementin for loop\n",
    "\n",
    "number_list = [2,3,4,5,6,7,8]\n",
    "\n",
    "\n",
    "for i in number_list:\n",
    "    print(i)\n",
    "    if i == 5:\n",
    "        break"
   ]
  },
  {
   "cell_type": "code",
   "execution_count": null,
   "metadata": {},
   "outputs": [],
   "source": [
    "#Continue Statement\n",
    "number_list = [2,3,4,5,6,7,8]\n",
    "\n",
    "for i in number_list:\n",
    "if i == 5:\n",
    "continue\n",
    "print(i)"
   ]
  },
  {
   "cell_type": "code",
   "execution_count": null,
   "metadata": {},
   "outputs": [],
   "source": [
    "#Nested For Loop in Python\n",
    "for i in range(1,9,2):\n",
    "    for j in range(i):\n",
    "        print( i, end = '')#, end = ''\n",
    "    print()\n",
    "#In this example, we have used nested loops to print a number pyramid pattern. \n",
    "#The outer loop is used to handle the number of rows in the pattern, \n",
    "#and the inner loop or the nested loop is used to handle the number of columns in the pattern. \n",
    "#Note that we have also used the third parameter in the range() function and \n",
    "#have set the increment to 2, that is why the number in every column is incremented by 2."
   ]
  },
  {
   "cell_type": "markdown",
   "metadata": {},
   "source": [
    "# Functions"
   ]
  },
  {
   "cell_type": "markdown",
   "metadata": {},
   "source": [
    "built in functins"
   ]
  },
  {
   "cell_type": "code",
   "execution_count": 12,
   "metadata": {},
   "outputs": [
    {
     "name": "stdout",
     "output_type": "stream",
     "text": [
      "3\n",
      "<class 'float'>\n",
      "13\n",
      "z\n"
     ]
    }
   ],
   "source": [
    "#built in functins\n",
    "ex1 = abs(-3) \n",
    "ex2 = type(3.45) \n",
    "ex3 = max(3, 9, 7, 13) \n",
    "ex4 = max(\"z\", \"b\", \"t\") \n",
    "print(ex1)\n",
    "print(ex2)\n",
    "print(ex3)\n",
    "print(ex4)"
   ]
  },
  {
   "cell_type": "markdown",
   "metadata": {},
   "source": [
    "User defined functions"
   ]
  },
  {
   "cell_type": "code",
   "execution_count": 16,
   "metadata": {},
   "outputs": [],
   "source": [
    "#UDF-functions with NO parameter\n",
    "def ex():\n",
    "    print(\"hello world\")"
   ]
  },
  {
   "cell_type": "code",
   "execution_count": 17,
   "metadata": {},
   "outputs": [
    {
     "name": "stdout",
     "output_type": "stream",
     "text": [
      "hello world\n"
     ]
    }
   ],
   "source": [
    "#calling a function\n",
    "ex()"
   ]
  },
  {
   "cell_type": "code",
   "execution_count": 18,
   "metadata": {},
   "outputs": [],
   "source": [
    "#functions with one parameter\n",
    "def func(par):\n",
    "    #Action items\n",
    "    return par"
   ]
  },
  {
   "cell_type": "code",
   "execution_count": 20,
   "metadata": {},
   "outputs": [
    {
     "data": {
      "text/plain": [
       "19"
      ]
     },
     "execution_count": 20,
     "metadata": {},
     "output_type": "execute_result"
    }
   ],
   "source": [
    "func(19)"
   ]
  },
  {
   "cell_type": "code",
   "execution_count": 21,
   "metadata": {},
   "outputs": [
    {
     "data": {
      "text/plain": [
       "'a'"
      ]
     },
     "execution_count": 21,
     "metadata": {},
     "output_type": "execute_result"
    }
   ],
   "source": [
    "func('a')"
   ]
  },
  {
   "cell_type": "code",
   "execution_count": 22,
   "metadata": {},
   "outputs": [
    {
     "data": {
      "text/plain": [
       "[1, 2, 3]"
      ]
     },
     "execution_count": 22,
     "metadata": {},
     "output_type": "execute_result"
    }
   ],
   "source": [
    "test_list=[1,2,3]\n",
    "func(test_list)"
   ]
  },
  {
   "cell_type": "code",
   "execution_count": 23,
   "metadata": {},
   "outputs": [
    {
     "data": {
      "text/plain": [
       "['a', 'b', 'c']"
      ]
     },
     "execution_count": 23,
     "metadata": {},
     "output_type": "execute_result"
    }
   ],
   "source": [
    "test_list_1=['a','b','c']\n",
    "func(test_list_1)"
   ]
  },
  {
   "cell_type": "code",
   "execution_count": 24,
   "metadata": {},
   "outputs": [],
   "source": [
    "def list_first_item_finder(par):\n",
    "    return(par[0])"
   ]
  },
  {
   "cell_type": "code",
   "execution_count": 26,
   "metadata": {},
   "outputs": [
    {
     "data": {
      "text/plain": [
       "8"
      ]
     },
     "execution_count": 26,
     "metadata": {},
     "output_type": "execute_result"
    }
   ],
   "source": [
    "test_list=[8,1,2,3]\n",
    "list_first_item_finder(test_list)"
   ]
  },
  {
   "cell_type": "code",
   "execution_count": 27,
   "metadata": {},
   "outputs": [
    {
     "name": "stdout",
     "output_type": "stream",
     "text": [
      "a\n"
     ]
    }
   ],
   "source": [
    "print(list_first_item_finder(test_list_1))"
   ]
  },
  {
   "cell_type": "code",
   "execution_count": 28,
   "metadata": {},
   "outputs": [],
   "source": [
    "#functions with multiple parameter\n",
    "def mult(a, b, c):\n",
    "    d = a * b #action\n",
    "    return (d + c)"
   ]
  },
  {
   "cell_type": "code",
   "execution_count": 29,
   "metadata": {},
   "outputs": [
    {
     "data": {
      "text/plain": [
       "280"
      ]
     },
     "execution_count": 29,
     "metadata": {},
     "output_type": "execute_result"
    }
   ],
   "source": [
    "mult(10,25,30)"
   ]
  },
  {
   "cell_type": "code",
   "execution_count": 30,
   "metadata": {},
   "outputs": [],
   "source": [
    "#function withing function\n",
    "def giver(a, b):\n",
    "    c = a + b\n",
    "    return c\n",
    "\n",
    "def taker(d, e):\n",
    "    output = giver(d, e)## Function within function\n",
    "    output+=100\n",
    "    return output"
   ]
  },
  {
   "cell_type": "code",
   "execution_count": 31,
   "metadata": {},
   "outputs": [
    {
     "data": {
      "text/plain": [
       "6"
      ]
     },
     "execution_count": 31,
     "metadata": {},
     "output_type": "execute_result"
    }
   ],
   "source": [
    "giver(1,5)"
   ]
  },
  {
   "cell_type": "code",
   "execution_count": 32,
   "metadata": {},
   "outputs": [
    {
     "data": {
      "text/plain": [
       "106"
      ]
     },
     "execution_count": 32,
     "metadata": {},
     "output_type": "execute_result"
    }
   ],
   "source": [
    "taker(1, 5)"
   ]
  },
  {
   "cell_type": "code",
   "execution_count": 34,
   "metadata": {},
   "outputs": [],
   "source": [
    "#functions to manipulate list\n",
    "def product(a):\n",
    "    return (a[1] * a[2])"
   ]
  },
  {
   "cell_type": "code",
   "execution_count": 35,
   "metadata": {},
   "outputs": [
    {
     "data": {
      "text/plain": [
       "6"
      ]
     },
     "execution_count": 35,
     "metadata": {},
     "output_type": "execute_result"
    }
   ],
   "source": [
    "a=[1,2,3,4]\n",
    "product(a)"
   ]
  },
  {
   "cell_type": "code",
   "execution_count": 36,
   "metadata": {},
   "outputs": [],
   "source": [
    "#functions to manipulate list\n",
    "def list_manip(par):\n",
    "    par.append(5)\n",
    "    par.insert(2,4)\n",
    "    par.remove(3)\n",
    "    return par"
   ]
  },
  {
   "cell_type": "code",
   "execution_count": 37,
   "metadata": {},
   "outputs": [],
   "source": [
    "test=[1,1,1,1,1,1,1,3]"
   ]
  },
  {
   "cell_type": "code",
   "execution_count": 38,
   "metadata": {},
   "outputs": [
    {
     "name": "stdout",
     "output_type": "stream",
     "text": [
      "[1, 1, 4, 1, 1, 1, 1, 1, 5]\n"
     ]
    }
   ],
   "source": [
    "print(list_manip(test))"
   ]
  },
  {
   "cell_type": "code",
   "execution_count": 39,
   "metadata": {},
   "outputs": [],
   "source": [
    "#for loop in a function\n",
    "def print_items_next_line(a):\n",
    "    for items in a:\n",
    "        print(items)\n"
   ]
  },
  {
   "cell_type": "code",
   "execution_count": 41,
   "metadata": {},
   "outputs": [
    {
     "name": "stdout",
     "output_type": "stream",
     "text": [
      "10\n",
      "20\n",
      "30\n",
      "40\n",
      "50\n"
     ]
    }
   ],
   "source": [
    "exList = [10, 20, 30, 40, 50]\n",
    "print_items_next_line(exList)"
   ]
  },
  {
   "cell_type": "code",
   "execution_count": 42,
   "metadata": {},
   "outputs": [],
   "source": [
    "def manip_list_all_items(a):\n",
    "    empty=[]\n",
    "    for items in a:## for loop \n",
    "        empty.append(items*2)\n",
    "    return empty"
   ]
  },
  {
   "cell_type": "code",
   "execution_count": 43,
   "metadata": {},
   "outputs": [
    {
     "data": {
      "text/plain": [
       "[20, 40, 60, 80, 100]"
      ]
     },
     "execution_count": 43,
     "metadata": {},
     "output_type": "execute_result"
    }
   ],
   "source": [
    "manip_list_all_items(exList)"
   ]
  },
  {
   "cell_type": "code",
   "execution_count": 44,
   "metadata": {},
   "outputs": [],
   "source": [
    "#function to get the largest number from a list.\n",
    "def max_num_in_list( list ):\n",
    "    max = list[ 0 ]#1\n",
    "    for a in list:\n",
    "        if a > max:\n",
    "            max = a\n",
    "    return max\n"
   ]
  },
  {
   "cell_type": "code",
   "execution_count": 46,
   "metadata": {},
   "outputs": [
    {
     "data": {
      "text/plain": [
       "10"
      ]
     },
     "execution_count": 46,
     "metadata": {},
     "output_type": "execute_result"
    }
   ],
   "source": [
    "max_num_in_list([10, 2, 3, 4])"
   ]
  },
  {
   "cell_type": "code",
   "execution_count": null,
   "metadata": {},
   "outputs": [],
   "source": [
    "# Write a Python program to calculate the length of a string.\n",
    "\n",
    "def string_length(str1):\n",
    "    count = 0\n",
    "    for char in str1:\n",
    "        count += 1\n",
    "    return count\n",
    "print(string_length('hello world'))"
   ]
  },
  {
   "cell_type": "markdown",
   "metadata": {},
   "source": [
    "# Classes and Objects in Python"
   ]
  },
  {
   "cell_type": "markdown",
   "metadata": {},
   "source": [
    "\n",
    "Python is an object-oriented language and almost every entity in Python is an object\n",
    "\n",
    "A class is simply a logical entity that behaves as a prototype or a template to create objects.\n",
    "\n",
    "An object is just a collection of variables and Python functions. \n",
    "\n",
    "Variables and functions are defined inside the class and are accessed using objects. \n",
    "\n",
    "These variables and functions are collectively known as attributes of class."
   ]
  },
  {
   "cell_type": "markdown",
   "metadata": {},
   "source": [
    "Defining a Class in Python"
   ]
  },
  {
   "cell_type": "code",
   "execution_count": 47,
   "metadata": {},
   "outputs": [],
   "source": [
    "class my_first_class:\n",
    "    def function1():\n",
    "        print('Welcome to OOP')\n",
    "    def function2(par):\n",
    "        temp=par*100\n",
    "        return temp\n"
   ]
  },
  {
   "cell_type": "code",
   "execution_count": 49,
   "metadata": {},
   "outputs": [
    {
     "name": "stdout",
     "output_type": "stream",
     "text": [
      "Welcome to OOP\n"
     ]
    },
    {
     "data": {
      "text/plain": [
       "900"
      ]
     },
     "execution_count": 49,
     "metadata": {},
     "output_type": "execute_result"
    }
   ],
   "source": [
    "#accessing attributes using the class object of same name\n",
    "my_first_class.function1()\n",
    "my_first_class.function2(9)"
   ]
  },
  {
   "cell_type": "markdown",
   "metadata": {},
   "source": [
    "Creating an Object in Python"
   ]
  },
  {
   "cell_type": "code",
   "execution_count": 51,
   "metadata": {},
   "outputs": [],
   "source": [
    "class my_second_class:\n",
    "    def function3(par):\n",
    "        print('Welcome to OOP')\n",
    "\n",
    "#creating a new object named object1 using class my_second_class\n",
    "object1 = my_second_class()\n",
    "object2 = my_second_class()"
   ]
  },
  {
   "cell_type": "code",
   "execution_count": 52,
   "metadata": {},
   "outputs": [
    {
     "name": "stdout",
     "output_type": "stream",
     "text": [
      "Welcome to OOP\n",
      "Welcome to OOP\n"
     ]
    }
   ],
   "source": [
    "#accessing the attributes using new object\n",
    "object1.function3()\n",
    "object2.function3() "
   ]
  },
  {
   "cell_type": "markdown",
   "metadata": {},
   "source": [
    "Python Inheritance and Its Types"
   ]
  },
  {
   "cell_type": "markdown",
   "metadata": {},
   "source": [
    " The ability of a class to inherit the properties of another class is known as inheritance. The class that inherits the properties is usually called a subclass or a derived class. And, the class that is being inherited is known as a superclass or a base class.\n",
    " \n",
    " Single inheritance:\n",
    "     \n",
    "     The type of inheritance when a class inherits only one base class is known as single inheritance, as we saw in the above example."
   ]
  },
  {
   "cell_type": "code",
   "execution_count": 53,
   "metadata": {},
   "outputs": [],
   "source": [
    "class my_fourth_class:\n",
    "    def course(self):\n",
    "        print('Python')\n",
    "class my_fifth_class(my_fourth_class):\n",
    "    def func(self):\n",
    "         print('Welcome to OOP')\n",
    "\n"
   ]
  },
  {
   "cell_type": "code",
   "execution_count": 54,
   "metadata": {},
   "outputs": [
    {
     "name": "stdout",
     "output_type": "stream",
     "text": [
      "Welcome to OOP\n",
      "Python\n"
     ]
    }
   ],
   "source": [
    "ob1 = my_fifth_class()\n",
    "ob1.func()\n",
    "ob1.course()"
   ]
  },
  {
   "cell_type": "markdown",
   "metadata": {},
   "source": [
    "Multiple inheritance:\n",
    "    \n",
    "    When a class inherits multiple base classes, it’s known as multiple inheritance. "
   ]
  },
  {
   "cell_type": "code",
   "execution_count": 55,
   "metadata": {},
   "outputs": [],
   "source": [
    "class my_base_class_1:\n",
    "    def base_func1(self):\n",
    "        print('a')\n",
    "class my_base_class_2:\n",
    "    def base_func_2(self):\n",
    "        print('b')\n",
    "class my_derived_class(my_base_class_1, my_base_class_2):\n",
    "    def derived_func(self):\n",
    "         print('c')"
   ]
  },
  {
   "cell_type": "code",
   "execution_count": 56,
   "metadata": {},
   "outputs": [
    {
     "name": "stdout",
     "output_type": "stream",
     "text": [
      "a\n",
      "b\n",
      "c\n"
     ]
    }
   ],
   "source": [
    "my_ob_1 = my_derived_class()\n",
    "my_ob_1.base_func1()\n",
    "my_ob_1.base_func_2()\n",
    "my_ob_1.derived_func()"
   ]
  },
  {
   "cell_type": "markdown",
   "metadata": {},
   "source": [
    "Multilevel inheritence"
   ]
  },
  {
   "cell_type": "code",
   "execution_count": 63,
   "metadata": {},
   "outputs": [],
   "source": [
    "class my_parent_class:\n",
    "    def parent_func(self):\n",
    "        print('a')\n",
    "class my_child_class(my_parent_class):\n",
    "    def child_func(self):\n",
    "        print('b')\n",
    "class my_grandChild_class(my_child_class):\n",
    "    def grandChild_func(self):\n",
    "        print('c')"
   ]
  },
  {
   "cell_type": "code",
   "execution_count": 64,
   "metadata": {},
   "outputs": [
    {
     "name": "stdout",
     "output_type": "stream",
     "text": [
      "a\n",
      "b\n",
      "c\n"
     ]
    }
   ],
   "source": [
    "my_fam=my_grandChild_class()\n",
    "my_fam.parent_func()\n",
    "my_fam.child_func()\n",
    "my_fam.grandChild_func()"
   ]
  },
  {
   "cell_type": "markdown",
   "metadata": {},
   "source": [
    "The_init_() Function in Python\n",
    "\n",
    "The __init__ function is a reserved function in classes in Python which is automatically called whenever a new object of the class is instantiated. As a regular function, the init function is also defined using the def keyword. \n",
    "\n",
    "These types of functions are called constructors. We use constructors to initialize variables. We can pass any number of arguments while creating the class object as per the definition of the init function."
   ]
  },
  {
   "cell_type": "code",
   "execution_count": null,
   "metadata": {},
   "outputs": [],
   "source": [
    "class my_third_class:\n",
    "    def __init__(self, course):\n",
    "        self.course = course\n",
    "    def display(self):\n",
    "        print(self.course)\n",
    "        "
   ]
  },
  {
   "cell_type": "code",
   "execution_count": null,
   "metadata": {},
   "outputs": [],
   "source": [
    "object3 = my_third_class('Welcome to OOP')\n",
    "object3.display()"
   ]
  },
  {
   "cell_type": "markdown",
   "metadata": {},
   "source": [
    "# Modules"
   ]
  },
  {
   "cell_type": "markdown",
   "metadata": {},
   "source": [
    " We can create a script containing a function and import that script in every program that makes use of that function. These scripts are called modules in Python."
   ]
  },
  {
   "cell_type": "code",
   "execution_count": 65,
   "metadata": {},
   "outputs": [
    {
     "name": "stdout",
     "output_type": "stream",
     "text": [
      "1\n"
     ]
    }
   ],
   "source": [
    "#Import Modules\n",
    "import random\n",
    "print(random.randint(1,10))"
   ]
  },
  {
   "cell_type": "code",
   "execution_count": 10,
   "metadata": {},
   "outputs": [
    {
     "name": "stdout",
     "output_type": "stream",
     "text": [
      "4\n"
     ]
    }
   ],
   "source": [
    "from random import randint\n",
    "print(randint(1,10))"
   ]
  },
  {
   "cell_type": "markdown",
   "metadata": {},
   "source": [
    "# Packages- PIP in Python"
   ]
  },
  {
   "cell_type": "markdown",
   "metadata": {},
   "source": [
    "PIP is a Python package management system which can also be used to install various software written in Python and Python modules and their respective dependencies."
   ]
  },
  {
   "cell_type": "code",
   "execution_count": null,
   "metadata": {},
   "outputs": [],
   "source": [
    "    pip --verion #Checking If PIP Is Installed\n",
    "    pip list #lising all packages installed\n",
    "    pip search abc #Searching Packages"
   ]
  }
 ],
 "metadata": {
  "kernelspec": {
   "display_name": "Python 3",
   "language": "python",
   "name": "python3"
  },
  "language_info": {
   "codemirror_mode": {
    "name": "ipython",
    "version": 3
   },
   "file_extension": ".py",
   "mimetype": "text/x-python",
   "name": "python",
   "nbconvert_exporter": "python",
   "pygments_lexer": "ipython3",
   "version": "3.7.3"
  }
 },
 "nbformat": 4,
 "nbformat_minor": 2
}
